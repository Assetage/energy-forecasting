{
 "cells": [
  {
   "cell_type": "markdown",
   "metadata": {},
   "source": [
    "## This notebook is to explain how to use the project package correctly"
   ]
  },
  {
   "cell_type": "markdown",
   "metadata": {},
   "source": [
    "### Importing libraries"
   ]
  },
  {
   "cell_type": "code",
   "execution_count": 40,
   "metadata": {},
   "outputs": [],
   "source": [
    "from PIL import Image\n",
    "import json\n",
    "import pandas as pd"
   ]
  },
  {
   "cell_type": "markdown",
   "metadata": {},
   "source": [
    "### Making sure we run the package installation from the project root directory"
   ]
  },
  {
   "cell_type": "code",
   "execution_count": 2,
   "metadata": {},
   "outputs": [
    {
     "data": {
      "text/plain": [
       "'/home/repos/energy-forecasting/notebooks'"
      ]
     },
     "execution_count": 2,
     "metadata": {},
     "output_type": "execute_result"
    }
   ],
   "source": [
    "%pwd"
   ]
  },
  {
   "cell_type": "code",
   "execution_count": 3,
   "metadata": {},
   "outputs": [
    {
     "name": "stdout",
     "output_type": "stream",
     "text": [
      "/home/repos/energy-forecasting\n"
     ]
    },
    {
     "name": "stderr",
     "output_type": "stream",
     "text": [
      "/root/miniconda3/envs/ts/lib/python3.9/site-packages/IPython/core/magics/osm.py:417: UserWarning: using dhist requires you to install the `pickleshare` library.\n",
      "  self.shell.db['dhist'] = compress_dhist(dhist)[-100:]\n"
     ]
    }
   ],
   "source": [
    "%cd .."
   ]
  },
  {
   "cell_type": "code",
   "execution_count": 4,
   "metadata": {},
   "outputs": [
    {
     "data": {
      "text/plain": [
       "'/home/repos/energy-forecasting'"
      ]
     },
     "execution_count": 4,
     "metadata": {},
     "output_type": "execute_result"
    }
   ],
   "source": [
    "%pwd"
   ]
  },
  {
   "cell_type": "code",
   "execution_count": 6,
   "metadata": {},
   "outputs": [
    {
     "name": "stdout",
     "output_type": "stream",
     "text": [
      "Obtaining file:///home/repos/energy-forecasting\n",
      "  Installing build dependencies ... \u001b[?25ldone\n",
      "\u001b[?25h  Checking if build backend supports build_editable ... \u001b[?25ldone\n",
      "\u001b[?25h  Getting requirements to build editable ... \u001b[?25ldone\n",
      "\u001b[?25h  Preparing editable metadata (pyproject.toml) ... \u001b[?25ldone\n",
      "\u001b[?25hRequirement already satisfied: Faker in /root/miniconda3/envs/ts/lib/python3.9/site-packages (from energy-forecasting==0.0.0) (23.2.1)\n",
      "Requirement already satisfied: omegaconf in /root/miniconda3/envs/ts/lib/python3.9/site-packages (from energy-forecasting==0.0.0) (2.3.0)\n",
      "Requirement already satisfied: pandas in /root/miniconda3/envs/ts/lib/python3.9/site-packages (from energy-forecasting==0.0.0) (2.2.0)\n",
      "Requirement already satisfied: marshmallow-dataclass==8.4.1 in /root/miniconda3/envs/ts/lib/python3.9/site-packages (from energy-forecasting==0.0.0) (8.4.1)\n",
      "Requirement already satisfied: numpy in /root/miniconda3/envs/ts/lib/python3.9/site-packages (from energy-forecasting==0.0.0) (1.26.4)\n",
      "Requirement already satisfied: hydra-core in /root/miniconda3/envs/ts/lib/python3.9/site-packages (from energy-forecasting==0.0.0) (1.3.2)\n",
      "Requirement already satisfied: typeguard in /root/miniconda3/envs/ts/lib/python3.9/site-packages (from energy-forecasting==0.0.0) (4.1.5)\n",
      "Requirement already satisfied: hyperopt in /root/miniconda3/envs/ts/lib/python3.9/site-packages (from energy-forecasting==0.0.0) (0.2.7)\n",
      "Requirement already satisfied: matplotlib in /root/miniconda3/envs/ts/lib/python3.9/site-packages (from energy-forecasting==0.0.0) (3.8.3)\n",
      "Requirement already satisfied: pytest in /root/miniconda3/envs/ts/lib/python3.9/site-packages (from energy-forecasting==0.0.0) (6.2.3)\n",
      "Requirement already satisfied: dataclasses==0.6 in /root/miniconda3/envs/ts/lib/python3.9/site-packages (from energy-forecasting==0.0.0) (0.6)\n",
      "Requirement already satisfied: scikit-learn==1.0 in /root/miniconda3/envs/ts/lib/python3.9/site-packages (from energy-forecasting==0.0.0) (1.0)\n",
      "Requirement already satisfied: marshmallow<4.0,>=3.0.0 in /root/miniconda3/envs/ts/lib/python3.9/site-packages (from marshmallow-dataclass==8.4.1->energy-forecasting==0.0.0) (3.20.2)\n",
      "Requirement already satisfied: typing-inspect in /root/miniconda3/envs/ts/lib/python3.9/site-packages (from marshmallow-dataclass==8.4.1->energy-forecasting==0.0.0) (0.9.0)\n",
      "Requirement already satisfied: scipy>=1.1.0 in /root/miniconda3/envs/ts/lib/python3.9/site-packages (from scikit-learn==1.0->energy-forecasting==0.0.0) (1.12.0)\n",
      "Requirement already satisfied: joblib>=0.11 in /root/miniconda3/envs/ts/lib/python3.9/site-packages (from scikit-learn==1.0->energy-forecasting==0.0.0) (1.3.2)\n",
      "Requirement already satisfied: threadpoolctl>=2.0.0 in /root/miniconda3/envs/ts/lib/python3.9/site-packages (from scikit-learn==1.0->energy-forecasting==0.0.0) (3.3.0)\n",
      "Requirement already satisfied: python-dateutil>=2.4 in /root/miniconda3/envs/ts/lib/python3.9/site-packages (from Faker->energy-forecasting==0.0.0) (2.8.2)\n",
      "Requirement already satisfied: antlr4-python3-runtime==4.9.* in /root/miniconda3/envs/ts/lib/python3.9/site-packages (from hydra-core->energy-forecasting==0.0.0) (4.9.3)\n",
      "Requirement already satisfied: packaging in /root/miniconda3/envs/ts/lib/python3.9/site-packages (from hydra-core->energy-forecasting==0.0.0) (23.2)\n",
      "Requirement already satisfied: PyYAML>=5.1.0 in /root/miniconda3/envs/ts/lib/python3.9/site-packages (from omegaconf->energy-forecasting==0.0.0) (6.0.1)\n",
      "Requirement already satisfied: six in /root/miniconda3/envs/ts/lib/python3.9/site-packages (from hyperopt->energy-forecasting==0.0.0) (1.16.0)\n",
      "Requirement already satisfied: networkx>=2.2 in /root/miniconda3/envs/ts/lib/python3.9/site-packages (from hyperopt->energy-forecasting==0.0.0) (3.2.1)\n",
      "Requirement already satisfied: future in /root/miniconda3/envs/ts/lib/python3.9/site-packages (from hyperopt->energy-forecasting==0.0.0) (1.0.0)\n",
      "Requirement already satisfied: tqdm in /root/miniconda3/envs/ts/lib/python3.9/site-packages (from hyperopt->energy-forecasting==0.0.0) (4.66.2)\n",
      "Requirement already satisfied: cloudpickle in /root/miniconda3/envs/ts/lib/python3.9/site-packages (from hyperopt->energy-forecasting==0.0.0) (3.0.0)\n",
      "Requirement already satisfied: py4j in /root/miniconda3/envs/ts/lib/python3.9/site-packages (from hyperopt->energy-forecasting==0.0.0) (0.10.9.7)\n",
      "Requirement already satisfied: contourpy>=1.0.1 in /root/miniconda3/envs/ts/lib/python3.9/site-packages (from matplotlib->energy-forecasting==0.0.0) (1.2.0)\n",
      "Requirement already satisfied: cycler>=0.10 in /root/miniconda3/envs/ts/lib/python3.9/site-packages (from matplotlib->energy-forecasting==0.0.0) (0.12.1)\n",
      "Requirement already satisfied: fonttools>=4.22.0 in /root/miniconda3/envs/ts/lib/python3.9/site-packages (from matplotlib->energy-forecasting==0.0.0) (4.49.0)\n",
      "Requirement already satisfied: kiwisolver>=1.3.1 in /root/miniconda3/envs/ts/lib/python3.9/site-packages (from matplotlib->energy-forecasting==0.0.0) (1.4.5)\n",
      "Requirement already satisfied: pillow>=8 in /root/miniconda3/envs/ts/lib/python3.9/site-packages (from matplotlib->energy-forecasting==0.0.0) (10.2.0)\n",
      "Requirement already satisfied: pyparsing>=2.3.1 in /root/miniconda3/envs/ts/lib/python3.9/site-packages (from matplotlib->energy-forecasting==0.0.0) (3.1.1)\n",
      "Requirement already satisfied: importlib-resources>=3.2.0 in /root/miniconda3/envs/ts/lib/python3.9/site-packages (from matplotlib->energy-forecasting==0.0.0) (6.1.1)\n",
      "Requirement already satisfied: pytz>=2020.1 in /root/miniconda3/envs/ts/lib/python3.9/site-packages (from pandas->energy-forecasting==0.0.0) (2024.1)\n",
      "Requirement already satisfied: tzdata>=2022.7 in /root/miniconda3/envs/ts/lib/python3.9/site-packages (from pandas->energy-forecasting==0.0.0) (2024.1)\n",
      "Requirement already satisfied: attrs>=19.2.0 in /root/miniconda3/envs/ts/lib/python3.9/site-packages (from pytest->energy-forecasting==0.0.0) (23.2.0)\n",
      "Requirement already satisfied: iniconfig in /root/miniconda3/envs/ts/lib/python3.9/site-packages (from pytest->energy-forecasting==0.0.0) (2.0.0)\n",
      "Requirement already satisfied: pluggy<1.0.0a1,>=0.12 in /root/miniconda3/envs/ts/lib/python3.9/site-packages (from pytest->energy-forecasting==0.0.0) (0.13.1)\n",
      "Requirement already satisfied: py>=1.8.2 in /root/miniconda3/envs/ts/lib/python3.9/site-packages (from pytest->energy-forecasting==0.0.0) (1.11.0)\n",
      "Requirement already satisfied: toml in /root/miniconda3/envs/ts/lib/python3.9/site-packages (from pytest->energy-forecasting==0.0.0) (0.10.2)\n",
      "Requirement already satisfied: importlib-metadata>=3.6 in /root/miniconda3/envs/ts/lib/python3.9/site-packages (from typeguard->energy-forecasting==0.0.0) (7.0.1)\n",
      "Requirement already satisfied: typing-extensions>=4.7.0 in /root/miniconda3/envs/ts/lib/python3.9/site-packages (from typeguard->energy-forecasting==0.0.0) (4.9.0)\n",
      "Requirement already satisfied: zipp>=0.5 in /root/miniconda3/envs/ts/lib/python3.9/site-packages (from importlib-metadata>=3.6->typeguard->energy-forecasting==0.0.0) (3.17.0)\n",
      "Requirement already satisfied: mypy-extensions>=0.3.0 in /root/miniconda3/envs/ts/lib/python3.9/site-packages (from typing-inspect->marshmallow-dataclass==8.4.1->energy-forecasting==0.0.0) (1.0.0)\n",
      "Building wheels for collected packages: energy-forecasting\n",
      "  Building editable for energy-forecasting (pyproject.toml) ... \u001b[?25ldone\n",
      "\u001b[?25h  Created wheel for energy-forecasting: filename=energy_forecasting-0.0.0-0.editable-py3-none-any.whl size=4817 sha256=73be93a0a51b38d68164f5431158296c37ab966659c68d16a6a186e7cf927147\n",
      "  Stored in directory: /tmp/pip-ephem-wheel-cache-10yde465/wheels/a8/9a/47/3d2995ad363a7889249121f3563b744a8a1ffa1179e78187a5\n",
      "Successfully built energy-forecasting\n",
      "Installing collected packages: energy-forecasting\n",
      "  Attempting uninstall: energy-forecasting\n",
      "    Found existing installation: energy-forecasting 0.0.0\n",
      "    Uninstalling energy-forecasting-0.0.0:\n",
      "      Successfully uninstalled energy-forecasting-0.0.0\n",
      "Successfully installed energy-forecasting-0.0.0\n",
      "\u001b[33mWARNING: Running pip as the 'root' user can result in broken permissions and conflicting behaviour with the system package manager. It is recommended to use a virtual environment instead: https://pip.pypa.io/warnings/venv\u001b[0m\u001b[33m\n",
      "\u001b[0mNote: you may need to restart the kernel to use updated packages.\n"
     ]
    }
   ],
   "source": [
    "%pip install ."
   ]
  },
  {
   "cell_type": "markdown",
   "metadata": {},
   "source": [
    "### Running the training pipeline"
   ]
  },
  {
   "cell_type": "code",
   "execution_count": 7,
   "metadata": {},
   "outputs": [
    {
     "name": "stdout",
     "output_type": "stream",
     "text": [
      "[2024-02-27 21:18:52,802][train_pipeline][INFO] - Start train pipeline with params path_config:\n",
      "  input_data_path: data/raw/PJMW_hourly.csv\n",
      "  output_model_path: models/model_\n",
      "  cross_val_scores: models/cross_val_scores.json\n",
      "  opt_results: models/opt_results.json\n",
      "splitting_params:\n",
      "  n_splits: 5\n",
      "  hours: 24\n",
      "  days: 365\n",
      "  years: 1\n",
      "  gap: 24\n",
      "feature_params:\n",
      "  datetime_col: Datetime\n",
      "  target_col: PJMW_MW\n",
      "train_params:\n",
      "  model_type: RandomForestRegressor\n",
      "  n_estimators: 10\n",
      "  max_depth: 5\n",
      "  random_state: 21\n",
      "  verbose: 1\n",
      "\n",
      "[2024-02-27 21:18:52,802][train_pipeline][INFO] - Model is RandomForestRegressor\n",
      "[2024-02-27 21:18:52,863][train_pipeline][INFO] - Building features...\n",
      "[2024-02-27 21:18:53,388][train_pipeline][INFO] - Splitting data into train and test...\n",
      "[2024-02-27 21:18:53,394][train_pipeline][INFO] - Model initialization...\n",
      "[2024-02-27 21:18:53,394][train_pipeline][INFO] - Running cross validation...\n",
      "Mean RMSE accross folds is:  480640.8028376338\n",
      "RMSE Standard deviation accross folds is:  12078.951641815082\n",
      "Full track of cross validation can be seen here:  models/cross_val_scores.json\n",
      "[2024-02-27 21:18:58,171][train_pipeline][INFO] - Starting model training...\n",
      "[2024-02-27 21:18:59,368][train_pipeline][INFO] - Model training is done.\n",
      "[2024-02-27 21:18:59,369][train_pipeline][INFO] - Model is saved.\n",
      "[2024-02-27 21:18:59,369][train_pipeline][INFO] - Pipeline is finished.\n"
     ]
    }
   ],
   "source": [
    "!energy_forecasting pipeline=train train_params=rf"
   ]
  },
  {
   "cell_type": "markdown",
   "metadata": {},
   "source": [
    "Now let's see the pipeline outputs, since we save them in a corresponding file."
   ]
  },
  {
   "cell_type": "code",
   "execution_count": 27,
   "metadata": {},
   "outputs": [
    {
     "data": {
      "text/html": [
       "<div>\n",
       "<style scoped>\n",
       "    .dataframe tbody tr th:only-of-type {\n",
       "        vertical-align: middle;\n",
       "    }\n",
       "\n",
       "    .dataframe tbody tr th {\n",
       "        vertical-align: top;\n",
       "    }\n",
       "\n",
       "    .dataframe thead th {\n",
       "        text-align: right;\n",
       "    }\n",
       "</style>\n",
       "<table border=\"1\" class=\"dataframe\">\n",
       "  <thead>\n",
       "    <tr style=\"text-align: right;\">\n",
       "      <th></th>\n",
       "      <th>mean_rmse_folds</th>\n",
       "      <th>model_params</th>\n",
       "      <th>model_type</th>\n",
       "      <th>n_folds</th>\n",
       "      <th>scores</th>\n",
       "      <th>std_folds</th>\n",
       "      <th>timestamp</th>\n",
       "    </tr>\n",
       "  </thead>\n",
       "  <tbody>\n",
       "    <tr>\n",
       "      <th>11</th>\n",
       "      <td>480640.802838</td>\n",
       "      <td>{'bootstrap': True, 'ccp_alpha': 0.0, 'criteri...</td>\n",
       "      <td>RandomForestRegressor</td>\n",
       "      <td>5</td>\n",
       "      <td>[469615.92838419037, 499114.1440345615, 487043...</td>\n",
       "      <td>12078.951642</td>\n",
       "      <td>2024-02-27 21:08:58</td>\n",
       "    </tr>\n",
       "    <tr>\n",
       "      <th>12</th>\n",
       "      <td>461687.549307</td>\n",
       "      <td>{'copy_X': True, 'fit_intercept': True, 'n_job...</td>\n",
       "      <td>LinearRegression</td>\n",
       "      <td>5</td>\n",
       "      <td>[450066.6373005836, 429351.99090818845, 465119...</td>\n",
       "      <td>44133.997639</td>\n",
       "      <td>2024-02-27 21:09:11</td>\n",
       "    </tr>\n",
       "    <tr>\n",
       "      <th>13</th>\n",
       "      <td>464567.692486</td>\n",
       "      <td>{'activation': 'relu', 'alpha': 0.0001, 'batch...</td>\n",
       "      <td>MLPRegressor</td>\n",
       "      <td>5</td>\n",
       "      <td>[477899.562539529, 534372.1215973784, 399497.5...</td>\n",
       "      <td>53832.545101</td>\n",
       "      <td>2024-02-27 21:09:34</td>\n",
       "    </tr>\n",
       "    <tr>\n",
       "      <th>14</th>\n",
       "      <td>480640.802838</td>\n",
       "      <td>{'bootstrap': True, 'ccp_alpha': 0.0, 'criteri...</td>\n",
       "      <td>RandomForestRegressor</td>\n",
       "      <td>5</td>\n",
       "      <td>[469615.92838419037, 499114.1440345615, 487043...</td>\n",
       "      <td>12078.951642</td>\n",
       "      <td>2024-02-27 21:15:54</td>\n",
       "    </tr>\n",
       "    <tr>\n",
       "      <th>15</th>\n",
       "      <td>480640.802838</td>\n",
       "      <td>{'bootstrap': True, 'ccp_alpha': 0.0, 'criteri...</td>\n",
       "      <td>RandomForestRegressor</td>\n",
       "      <td>5</td>\n",
       "      <td>[469615.92838419037, 499114.1440345615, 487043...</td>\n",
       "      <td>12078.951642</td>\n",
       "      <td>2024-02-27 21:18:58</td>\n",
       "    </tr>\n",
       "  </tbody>\n",
       "</table>\n",
       "</div>"
      ],
      "text/plain": [
       "    mean_rmse_folds                                       model_params  \\\n",
       "11    480640.802838  {'bootstrap': True, 'ccp_alpha': 0.0, 'criteri...   \n",
       "12    461687.549307  {'copy_X': True, 'fit_intercept': True, 'n_job...   \n",
       "13    464567.692486  {'activation': 'relu', 'alpha': 0.0001, 'batch...   \n",
       "14    480640.802838  {'bootstrap': True, 'ccp_alpha': 0.0, 'criteri...   \n",
       "15    480640.802838  {'bootstrap': True, 'ccp_alpha': 0.0, 'criteri...   \n",
       "\n",
       "               model_type  n_folds  \\\n",
       "11  RandomForestRegressor        5   \n",
       "12       LinearRegression        5   \n",
       "13           MLPRegressor        5   \n",
       "14  RandomForestRegressor        5   \n",
       "15  RandomForestRegressor        5   \n",
       "\n",
       "                                               scores     std_folds  \\\n",
       "11  [469615.92838419037, 499114.1440345615, 487043...  12078.951642   \n",
       "12  [450066.6373005836, 429351.99090818845, 465119...  44133.997639   \n",
       "13  [477899.562539529, 534372.1215973784, 399497.5...  53832.545101   \n",
       "14  [469615.92838419037, 499114.1440345615, 487043...  12078.951642   \n",
       "15  [469615.92838419037, 499114.1440345615, 487043...  12078.951642   \n",
       "\n",
       "              timestamp  \n",
       "11  2024-02-27 21:08:58  \n",
       "12  2024-02-27 21:09:11  \n",
       "13  2024-02-27 21:09:34  \n",
       "14  2024-02-27 21:15:54  \n",
       "15  2024-02-27 21:18:58  "
      ]
     },
     "execution_count": 27,
     "metadata": {},
     "output_type": "execute_result"
    }
   ],
   "source": [
    "f = open(\"models/cross_val_scores.json\")\n",
    "training_results_dict = json.load(f)\n",
    "training_results_df = pd.DataFrame(training_results_dict)\n",
    "training_results_df.tail()\n"
   ]
  },
  {
   "cell_type": "markdown",
   "metadata": {},
   "source": [
    "### Running the optimizer pipeline"
   ]
  },
  {
   "cell_type": "code",
   "execution_count": 28,
   "metadata": {},
   "outputs": [
    {
     "name": "stdout",
     "output_type": "stream",
     "text": [
      "[2024-02-27 21:39:35,543][optimizer_pipeline][INFO] - Start optimizer pipeline with params path_config:\n",
      "  input_data_path: data/raw/PJMW_hourly.csv\n",
      "  output_model_path: models/model_\n",
      "  cross_val_scores: models/cross_val_scores.json\n",
      "  opt_results: models/opt_results.json\n",
      "splitting_params:\n",
      "  n_splits: 5\n",
      "  hours: 24\n",
      "  days: 365\n",
      "  years: 1\n",
      "  gap: 24\n",
      "feature_params:\n",
      "  datetime_col: Datetime\n",
      "  target_col: PJMW_MW\n",
      "optimizer_params:\n",
      "  model_type: RandomForestRegressor\n",
      "  n_estimators: 10\n",
      "  max_depth_from: 5\n",
      "  max_depth_to: 20\n",
      "  random_state: 21\n",
      "  verbose: 1\n",
      "\n",
      "[2024-02-27 21:39:35,544][optimizer_pipeline][INFO] - Model is RandomForestRegressor\n",
      "[2024-02-27 21:39:35,594][optimizer_pipeline][INFO] - Building features...\n",
      "[2024-02-27 21:39:36,096][optimizer_pipeline][INFO] - Splitting data into train and test...\n",
      "[2024-02-27 21:39:36,103][optimizer_pipeline][INFO] - Model initialization...\n",
      "[2024-02-27 21:39:36,103][optimizer_pipeline][INFO] - Model optimization...\n",
      "  0%|                                    | 0/10 [00:00<?, ?trial/s, best loss=?][2024-02-27 21:39:36,106][hyperopt.tpe][INFO] - build_posterior_wrapper took 0.000226 seconds\n",
      "[2024-02-27 21:39:36,106][hyperopt.tpe][INFO] - TPE using 0 trials\n",
      " 10%|█         | 1/10 [00:13<02:03, 13.71s/trial, best loss: -547314.0128330367][2024-02-27 21:39:49,817][hyperopt.tpe][INFO] - build_posterior_wrapper took 0.000203 seconds\n",
      "[2024-02-27 21:39:49,817][hyperopt.tpe][INFO] - TPE using 1/1 trials with best loss -547314.012833\n",
      " 20%|██        | 2/10 [00:19<01:12,  9.07s/trial, best loss: -547314.0128330367][2024-02-27 21:39:55,638][hyperopt.tpe][INFO] - build_posterior_wrapper took 0.000225 seconds\n",
      "[2024-02-27 21:39:55,638][hyperopt.tpe][INFO] - TPE using 2/2 trials with best loss -547314.012833\n",
      " 30%|███       | 3/10 [00:27<01:01,  8.79s/trial, best loss: -547314.0128330367][2024-02-27 21:40:04,090][hyperopt.tpe][INFO] - build_posterior_wrapper took 0.000227 seconds\n",
      "[2024-02-27 21:40:04,090][hyperopt.tpe][INFO] - TPE using 3/3 trials with best loss -547314.012833\n",
      " 40%|████      | 4/10 [00:41<01:02, 10.49s/trial, best loss: -547314.0128330367][2024-02-27 21:40:17,178][hyperopt.tpe][INFO] - build_posterior_wrapper took 0.000232 seconds\n",
      "[2024-02-27 21:40:17,178][hyperopt.tpe][INFO] - TPE using 4/4 trials with best loss -547314.012833\n",
      " 50%|█████     | 5/10 [00:51<00:52, 10.60s/trial, best loss: -547314.0128330367][2024-02-27 21:40:27,976][hyperopt.tpe][INFO] - build_posterior_wrapper took 0.000205 seconds\n",
      "[2024-02-27 21:40:27,976][hyperopt.tpe][INFO] - TPE using 5/5 trials with best loss -547314.012833\n",
      " 60%|██████    | 6/10 [01:02<00:42, 10.69s/trial, best loss: -547314.0128330367][2024-02-27 21:40:38,849][hyperopt.tpe][INFO] - build_posterior_wrapper took 0.000223 seconds\n",
      "[2024-02-27 21:40:38,849][hyperopt.tpe][INFO] - TPE using 6/6 trials with best loss -547314.012833\n",
      " 70%|███████   | 7/10 [01:18<00:36, 12.22s/trial, best loss: -548454.7830925947][2024-02-27 21:40:54,214][hyperopt.tpe][INFO] - build_posterior_wrapper took 0.000214 seconds\n",
      "[2024-02-27 21:40:54,214][hyperopt.tpe][INFO] - TPE using 7/7 trials with best loss -548454.783093\n",
      " 80%|████████  | 8/10 [01:28<00:23, 11.76s/trial, best loss: -548454.7830925947][2024-02-27 21:41:04,999][hyperopt.tpe][INFO] - build_posterior_wrapper took 0.000187 seconds\n",
      "[2024-02-27 21:41:04,999][hyperopt.tpe][INFO] - TPE using 8/8 trials with best loss -548454.783093\n",
      " 90%|█████████ | 9/10 [01:37<00:10, 10.62s/trial, best loss: -548454.7830925947][2024-02-27 21:41:13,115][hyperopt.tpe][INFO] - build_posterior_wrapper took 0.000190 seconds\n",
      "[2024-02-27 21:41:13,115][hyperopt.tpe][INFO] - TPE using 9/9 trials with best loss -548454.783093\n",
      "100%|█████████| 10/10 [01:44<00:00, 10.43s/trial, best loss: -548454.7830925947]\n",
      "[2024-02-27 21:41:20,372][optimizer_pipeline][INFO] - Best hyperparameters found:\n",
      "[2024-02-27 21:41:20,372][optimizer_pipeline][INFO] - Pipeline is finished.\n"
     ]
    }
   ],
   "source": [
    "!energy_forecasting pipeline=optimize optimizer_params=rf"
   ]
  },
  {
   "cell_type": "markdown",
   "metadata": {},
   "source": [
    "And let's again see the results of the model optimization."
   ]
  },
  {
   "cell_type": "code",
   "execution_count": 29,
   "metadata": {},
   "outputs": [
    {
     "data": {
      "text/html": [
       "<div>\n",
       "<style scoped>\n",
       "    .dataframe tbody tr th:only-of-type {\n",
       "        vertical-align: middle;\n",
       "    }\n",
       "\n",
       "    .dataframe tbody tr th {\n",
       "        vertical-align: top;\n",
       "    }\n",
       "\n",
       "    .dataframe thead th {\n",
       "        text-align: right;\n",
       "    }\n",
       "</style>\n",
       "<table border=\"1\" class=\"dataframe\">\n",
       "  <thead>\n",
       "    <tr style=\"text-align: right;\">\n",
       "      <th></th>\n",
       "      <th>model_params</th>\n",
       "      <th>model_type</th>\n",
       "      <th>timestamp</th>\n",
       "      <th>tuned_params</th>\n",
       "    </tr>\n",
       "  </thead>\n",
       "  <tbody>\n",
       "    <tr>\n",
       "      <th>0</th>\n",
       "      <td>{'max_depth': 5, 'max_depth_from': 5, 'max_dep...</td>\n",
       "      <td>RandomForestRegressor</td>\n",
       "      <td>2024-02-26 03:51:16</td>\n",
       "      <td>{'max_depth': 17.0}</td>\n",
       "    </tr>\n",
       "    <tr>\n",
       "      <th>1</th>\n",
       "      <td>{'max_depth': 5, 'max_depth_from': 5, 'max_dep...</td>\n",
       "      <td>RandomForestRegressor</td>\n",
       "      <td>2024-02-27 21:11:25</td>\n",
       "      <td>{'max_depth': 18.0}</td>\n",
       "    </tr>\n",
       "    <tr>\n",
       "      <th>2</th>\n",
       "      <td>{'max_depth': 5, 'max_depth_from': 5, 'max_dep...</td>\n",
       "      <td>RandomForestRegressor</td>\n",
       "      <td>2024-02-27 21:41:20</td>\n",
       "      <td>{'max_depth': 19.0}</td>\n",
       "    </tr>\n",
       "  </tbody>\n",
       "</table>\n",
       "</div>"
      ],
      "text/plain": [
       "                                        model_params             model_type  \\\n",
       "0  {'max_depth': 5, 'max_depth_from': 5, 'max_dep...  RandomForestRegressor   \n",
       "1  {'max_depth': 5, 'max_depth_from': 5, 'max_dep...  RandomForestRegressor   \n",
       "2  {'max_depth': 5, 'max_depth_from': 5, 'max_dep...  RandomForestRegressor   \n",
       "\n",
       "             timestamp         tuned_params  \n",
       "0  2024-02-26 03:51:16  {'max_depth': 17.0}  \n",
       "1  2024-02-27 21:11:25  {'max_depth': 18.0}  \n",
       "2  2024-02-27 21:41:20  {'max_depth': 19.0}  "
      ]
     },
     "execution_count": 29,
     "metadata": {},
     "output_type": "execute_result"
    }
   ],
   "source": [
    "f = open(\"models/opt_results.json\")\n",
    "optimizer_results_dict = json.load(f)\n",
    "optimizer_results_df = pd.DataFrame(optimizer_results_dict)\n",
    "optimizer_results_df.tail()"
   ]
  },
  {
   "cell_type": "markdown",
   "metadata": {},
   "source": [
    "### Running the prediction pipeline"
   ]
  },
  {
   "cell_type": "code",
   "execution_count": 31,
   "metadata": {},
   "outputs": [
    {
     "name": "stdout",
     "output_type": "stream",
     "text": [
      "[2024-02-27 21:44:46,400][ml_project/predict_pipeline][INFO] - Start prediction pipeline\n",
      "[2024-02-27 21:44:46,454][ml_project/predict_pipeline][INFO] - Dataset shape is (143206, 2)\n",
      "[2024-02-27 21:44:46,455][ml_project/predict_pipeline][INFO] - Loading model...\n",
      "[2024-02-27 21:44:46,455][ml_project/predict_pipeline][INFO] - Creating future df and concating it with an existing...\n",
      "[2024-02-27 21:44:46,485][ml_project/predict_pipeline][INFO] - Building features...\n",
      "[2024-02-27 21:44:47,056][ml_project/predict_pipeline][INFO] - Start prediction\n",
      "[2024-02-27 21:44:47,097][ml_project/predict_pipeline][INFO] - Prediction is done and saved to the file data/produced/predictions.csv\n",
      "[2024-02-27 21:44:47,098][ml_project/predict_pipeline][INFO] - Saving predictions plot\n"
     ]
    }
   ],
   "source": [
    "!energy_forecasting pipeline=predict"
   ]
  },
  {
   "cell_type": "markdown",
   "metadata": {},
   "source": [
    "For prediction pipeline there is no option to specify the model directly. This is done to allow a user to use its own models in case of need. The use of a specific model is defined in predict_params.yaml, where a user can specify the path to the model."
   ]
  },
  {
   "cell_type": "markdown",
   "metadata": {},
   "source": [
    "An artifact of the prediction pipeline are predictions file and a prediction plot. Let's look at them. Reminding you that the pipeline makes predictions into one year into the future. This can be changed in predict_model.py module and in future can be one of the pipeline arguments."
   ]
  },
  {
   "cell_type": "code",
   "execution_count": 34,
   "metadata": {},
   "outputs": [
    {
     "data": {
      "text/html": [
       "<div>\n",
       "<style scoped>\n",
       "    .dataframe tbody tr th:only-of-type {\n",
       "        vertical-align: middle;\n",
       "    }\n",
       "\n",
       "    .dataframe tbody tr th {\n",
       "        vertical-align: top;\n",
       "    }\n",
       "\n",
       "    .dataframe thead th {\n",
       "        text-align: right;\n",
       "    }\n",
       "</style>\n",
       "<table border=\"1\" class=\"dataframe\">\n",
       "  <thead>\n",
       "    <tr style=\"text-align: right;\">\n",
       "      <th></th>\n",
       "      <th>Datetime</th>\n",
       "      <th>hour</th>\n",
       "      <th>dayofweek</th>\n",
       "      <th>quarter</th>\n",
       "      <th>month</th>\n",
       "      <th>year</th>\n",
       "      <th>dayofyear</th>\n",
       "      <th>dayofmonth</th>\n",
       "      <th>weekofyear</th>\n",
       "      <th>lag1</th>\n",
       "      <th>lag2</th>\n",
       "      <th>lag3</th>\n",
       "      <th>pred</th>\n",
       "    </tr>\n",
       "  </thead>\n",
       "  <tbody>\n",
       "    <tr>\n",
       "      <th>0</th>\n",
       "      <td>2018-08-03 00:00:00</td>\n",
       "      <td>0</td>\n",
       "      <td>4</td>\n",
       "      <td>3</td>\n",
       "      <td>8</td>\n",
       "      <td>2018</td>\n",
       "      <td>215</td>\n",
       "      <td>3</td>\n",
       "      <td>31</td>\n",
       "      <td>5713.0</td>\n",
       "      <td>5620.0</td>\n",
       "      <td>4772.0</td>\n",
       "      <td>5545.162303</td>\n",
       "    </tr>\n",
       "    <tr>\n",
       "      <th>1</th>\n",
       "      <td>2018-08-03 01:00:00</td>\n",
       "      <td>1</td>\n",
       "      <td>4</td>\n",
       "      <td>3</td>\n",
       "      <td>8</td>\n",
       "      <td>2018</td>\n",
       "      <td>215</td>\n",
       "      <td>3</td>\n",
       "      <td>31</td>\n",
       "      <td>5260.0</td>\n",
       "      <td>5226.0</td>\n",
       "      <td>4421.0</td>\n",
       "      <td>4862.644975</td>\n",
       "    </tr>\n",
       "    <tr>\n",
       "      <th>2</th>\n",
       "      <td>2018-08-03 02:00:00</td>\n",
       "      <td>2</td>\n",
       "      <td>4</td>\n",
       "      <td>3</td>\n",
       "      <td>8</td>\n",
       "      <td>2018</td>\n",
       "      <td>215</td>\n",
       "      <td>3</td>\n",
       "      <td>31</td>\n",
       "      <td>4965.0</td>\n",
       "      <td>4913.0</td>\n",
       "      <td>4184.0</td>\n",
       "      <td>4862.644975</td>\n",
       "    </tr>\n",
       "    <tr>\n",
       "      <th>3</th>\n",
       "      <td>2018-08-03 03:00:00</td>\n",
       "      <td>3</td>\n",
       "      <td>4</td>\n",
       "      <td>3</td>\n",
       "      <td>8</td>\n",
       "      <td>2018</td>\n",
       "      <td>215</td>\n",
       "      <td>3</td>\n",
       "      <td>31</td>\n",
       "      <td>4815.0</td>\n",
       "      <td>4677.0</td>\n",
       "      <td>4085.0</td>\n",
       "      <td>4862.644975</td>\n",
       "    </tr>\n",
       "    <tr>\n",
       "      <th>4</th>\n",
       "      <td>2018-08-03 04:00:00</td>\n",
       "      <td>4</td>\n",
       "      <td>4</td>\n",
       "      <td>3</td>\n",
       "      <td>8</td>\n",
       "      <td>2018</td>\n",
       "      <td>215</td>\n",
       "      <td>3</td>\n",
       "      <td>31</td>\n",
       "      <td>4620.0</td>\n",
       "      <td>4638.0</td>\n",
       "      <td>4031.0</td>\n",
       "      <td>4730.238836</td>\n",
       "    </tr>\n",
       "  </tbody>\n",
       "</table>\n",
       "</div>"
      ],
      "text/plain": [
       "              Datetime  hour  dayofweek  quarter  month  year  dayofyear  \\\n",
       "0  2018-08-03 00:00:00     0          4        3      8  2018        215   \n",
       "1  2018-08-03 01:00:00     1          4        3      8  2018        215   \n",
       "2  2018-08-03 02:00:00     2          4        3      8  2018        215   \n",
       "3  2018-08-03 03:00:00     3          4        3      8  2018        215   \n",
       "4  2018-08-03 04:00:00     4          4        3      8  2018        215   \n",
       "\n",
       "   dayofmonth  weekofyear    lag1    lag2    lag3         pred  \n",
       "0           3          31  5713.0  5620.0  4772.0  5545.162303  \n",
       "1           3          31  5260.0  5226.0  4421.0  4862.644975  \n",
       "2           3          31  4965.0  4913.0  4184.0  4862.644975  \n",
       "3           3          31  4815.0  4677.0  4085.0  4862.644975  \n",
       "4           3          31  4620.0  4638.0  4031.0  4730.238836  "
      ]
     },
     "execution_count": 34,
     "metadata": {},
     "output_type": "execute_result"
    }
   ],
   "source": [
    "predictions_df = pd.read_csv(\"data/produced/predictions.csv\")\n",
    "predictions_df.head()"
   ]
  },
  {
   "cell_type": "code",
   "execution_count": 41,
   "metadata": {},
   "outputs": [
    {
     "data": {
      "image/png": "[encoded data removed]",
      "text/plain": [
       "<PIL.PngImagePlugin.PngImageFile image mode=RGBA size=1000x500>"
      ]
     },
     "metadata": {},
     "output_type": "display_data"
    }
   ],
   "source": [
    "img = Image.open(\"data/produced/predictions_plot.png\")\n",
    "img.show()"
   ]
  }
 ],
 "metadata": {
  "kernelspec": {
   "display_name": "ts",
   "language": "python",
   "name": "python3"
  },
  "language_info": {
   "codemirror_mode": {
    "name": "ipython",
    "version": 3
   },
   "file_extension": ".py",
   "mimetype": "text/x-python",
   "name": "python",
   "nbconvert_exporter": "python",
   "pygments_lexer": "ipython3",
   "version": "3.9.18"
  }
 },
 "nbformat": 4,
 "nbformat_minor": 2
}
